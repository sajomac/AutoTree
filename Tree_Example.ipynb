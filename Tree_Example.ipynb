{
 "cells": [
  {
   "cell_type": "code",
   "execution_count": 30,
   "metadata": {},
   "outputs": [
    {
     "name": "stderr",
     "output_type": "stream",
     "text": [
      "mkdir: cannot create directory ‘cloned_auto_tree’: File exists\n",
      "fatal: destination path 'AutoTree' already exists and is not an empty directory.\n"
     ]
    },
    {
     "name": "stdout",
     "output_type": "stream",
     "text": [
      "/home/gisam1/non_imaging_data/auto_tree/auto_tree/cloned_auto_tree/AutoTree\n",
      "Defaulting to user installation because normal site-packages is not writeable\n",
      "Requirement already satisfied: certifi==2025.1.31 in /var/data/python/lib/python3.11/site-packages (from -r requirements.txt (line 1)) (2025.1.31)\n",
      "Requirement already satisfied: charset-normalizer==3.4.1 in /var/data/python/lib/python3.11/site-packages (from -r requirements.txt (line 2)) (3.4.1)\n",
      "Requirement already satisfied: contourpy==1.3.0 in /var/data/python/lib/python3.11/site-packages (from -r requirements.txt (line 3)) (1.3.0)\n",
      "Requirement already satisfied: cycler==0.12.1 in /var/data/python/lib/python3.11/site-packages (from -r requirements.txt (line 4)) (0.12.1)\n",
      "Requirement already satisfied: fonttools==4.54.1 in /var/data/python/lib/python3.11/site-packages (from -r requirements.txt (line 5)) (4.54.1)\n",
      "Requirement already satisfied: idna==3.10 in /var/data/python/lib/python3.11/site-packages (from -r requirements.txt (line 6)) (3.10)\n",
      "Requirement already satisfied: joblib==1.4.2 in /var/data/python/lib/python3.11/site-packages (from -r requirements.txt (line 7)) (1.4.2)\n",
      "Requirement already satisfied: kiwisolver==1.4.7 in /var/data/python/lib/python3.11/site-packages (from -r requirements.txt (line 8)) (1.4.7)\n",
      "Requirement already satisfied: matplotlib==3.9.2 in /var/data/python/lib/python3.11/site-packages (from -r requirements.txt (line 9)) (3.9.2)\n",
      "Requirement already satisfied: numpy==2.1.2 in /var/data/python/lib/python3.11/site-packages (from -r requirements.txt (line 10)) (2.1.2)\n",
      "Requirement already satisfied: pandas==2.2.3 in /var/data/python/lib/python3.11/site-packages (from -r requirements.txt (line 11)) (2.2.3)\n",
      "Requirement already satisfied: pillow==11.0.0 in /var/data/python/lib/python3.11/site-packages (from -r requirements.txt (line 12)) (11.0.0)\n",
      "Requirement already satisfied: pyparsing==3.2.0 in /var/data/python/lib/python3.11/site-packages (from -r requirements.txt (line 13)) (3.2.0)\n",
      "Requirement already satisfied: pytz==2024.2 in /var/data/python/lib/python3.11/site-packages (from -r requirements.txt (line 14)) (2024.2)\n",
      "Requirement already satisfied: requests==2.32.3 in /var/data/python/lib/python3.11/site-packages (from -r requirements.txt (line 15)) (2.32.3)\n",
      "Requirement already satisfied: scikit-learn==1.5.2 in /var/data/python/lib/python3.11/site-packages (from -r requirements.txt (line 16)) (1.5.2)\n",
      "Requirement already satisfied: scipy==1.14.1 in /var/data/python/lib/python3.11/site-packages (from -r requirements.txt (line 17)) (1.14.1)\n",
      "Requirement already satisfied: seaborn==0.13.2 in /var/data/python/lib/python3.11/site-packages (from -r requirements.txt (line 18)) (0.13.2)\n",
      "Requirement already satisfied: setuptools==75.1.0 in /var/data/python/lib/python3.11/site-packages (from -r requirements.txt (line 19)) (75.1.0)\n",
      "Requirement already satisfied: threadpoolctl==3.5.0 in /var/data/python/lib/python3.11/site-packages (from -r requirements.txt (line 20)) (3.5.0)\n",
      "Requirement already satisfied: tzdata==2024.2 in /var/data/python/lib/python3.11/site-packages (from -r requirements.txt (line 21)) (2024.2)\n",
      "Requirement already satisfied: urllib3==2.3.0 in /var/data/python/lib/python3.11/site-packages (from -r requirements.txt (line 22)) (2.3.0)\n",
      "Requirement already satisfied: wheel==0.44.0 in /var/data/python/lib/python3.11/site-packages (from -r requirements.txt (line 23)) (0.44.0)\n",
      "Requirement already satisfied: packaging>=20.0 in /var/data/python/lib/python3.11/site-packages (from matplotlib==3.9.2->-r requirements.txt (line 9)) (24.1)\n",
      "Requirement already satisfied: python-dateutil>=2.7 in /var/data/python/lib/python3.11/site-packages (from matplotlib==3.9.2->-r requirements.txt (line 9)) (2.9.0.post0)\n",
      "Requirement already satisfied: six>=1.5 in /usr/lib/python3.11/site-packages (from python-dateutil>=2.7->matplotlib==3.9.2->-r requirements.txt (line 9)) (1.16.0)\n"
     ]
    }
   ],
   "source": [
    "%%bash\n",
    "mkdir cloned_auto_tree\n",
    "cd cloned_auto_tree\n",
    "git clone https://github.com/sajomac/AutoTree.git\n",
    "cd AutoTree\n",
    "\n",
    "pwd\n",
    "pip install -r requirements.txt\n",
    "\n",
    "\n",
    "# You can now simply run: \n",
    "python src/example_main.py"
   ]
  }
 ],
 "metadata": {
  "kernelspec": {
   "display_name": "forest",
   "language": "python",
   "name": "python3"
  },
  "language_info": {
   "codemirror_mode": {
    "name": "ipython",
    "version": 3
   },
   "file_extension": ".py",
   "mimetype": "text/x-python",
   "name": "python",
   "nbconvert_exporter": "python",
   "pygments_lexer": "ipython3",
   "version": "3.11.9"
  }
 },
 "nbformat": 4,
 "nbformat_minor": 2
}
